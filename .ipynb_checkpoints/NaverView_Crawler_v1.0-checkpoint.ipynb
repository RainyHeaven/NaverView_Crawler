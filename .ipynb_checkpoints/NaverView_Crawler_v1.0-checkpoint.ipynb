{
 "cells": [
  {
   "cell_type": "code",
   "execution_count": 19,
   "metadata": {},
   "outputs": [],
   "source": [
    "import cx_Oracle\n",
    "from selenium import webdriver as wd\n",
    "import csv\n",
    "from selenium.webdriver.support.ui import Select"
   ]
  },
  {
   "cell_type": "code",
   "execution_count": null,
   "metadata": {},
   "outputs": [],
   "source": [
    "conn = sqlite3.connect(ip,pt, sid)\n",
    "c = conn.cursor()\n",
    "c.execute('select sword_nm from ??? where ???')\n",
    "sword = c.fetchmany()"
   ]
  },
  {
   "cell_type": "code",
   "execution_count": 20,
   "metadata": {},
   "outputs": [],
   "source": [
    "save_path = 'C:/Users/Rainy/Documents/git/MyProject/NaverView_Crawler/output/'\n",
    "driver_path = 'C:/Users/Rainy/Documents/git/chromedriver'"
   ]
  },
  {
   "cell_type": "code",
   "execution_count": 69,
   "metadata": {},
   "outputs": [],
   "source": [
    "sword = '부천 인생샷'\n",
    "# 접속\n",
    "browser = wd.Chrome(driver_path)\n",
    "browser.implicitly_wait(3)\n",
    "\n",
    "# 검색\n",
    "browser.get('https://m.search.naver.com/search.naver?query='+sword)\n",
    "browser.implicitly_wait(3)\n",
    "\n",
    "# 더보기 클릭\n",
    "browser.find_element_by_css_selector('panel-list > div > more-button > div > a').click()\n",
    "browser.implicitly_wait(3)"
   ]
  },
  {
   "cell_type": "code",
   "execution_count": 70,
   "metadata": {},
   "outputs": [],
   "source": [
    "# 전체 검색\n",
    "result = []\n",
    "articles = browser.find_elements_by_css_selector('#_view_review_html > more-contents > div > ul > li')\n",
    "for article in articles:\n",
    "    temp = article.find_element_by_css_selector('div.total_wrap > a')\n",
    "    title = temp.text\n",
    "    link = temp.get_attribute('href')\n",
    "    loc = article.location['y']\n",
    "    result.append(['전체', title, loc, link])\n",
    "\n",
    "browser.set_window_position(0, 0)\n",
    "browser.set_window_size(433, 500)\n",
    "browser.implicitly_wait(3)\n",
    "element = browser.find_element_by_tag_name('body')\n",
    "element_png = element.screenshot_as_png\n",
    "with open(save_path+'naver_{}_{}.jpg'.format(sword, '전체'), \"wb\") as file:\n",
    "    file.write(element_png)    \n",
    "\n",
    "# blog, cafe 검색\n",
    "options = ['블로그', '카페']\n",
    "for option in options:\n",
    "    sel = Select(browser.find_element_by_css_selector('div > span > select'))\n",
    "    sel.select_by_visible_text(option)\n",
    "    browser.implicitly_wait(3)\n",
    "    \n",
    "    # 게시글 저장\n",
    "    articles = browser.find_elements_by_css_selector('section > div > ul > li')\n",
    "    for article in articles:\n",
    "        temp = article.find_element_by_css_selector('div.total_wrap > a')\n",
    "        title = temp.text\n",
    "        link = temp.get_attribute('href')\n",
    "        loc = article.location['y']\n",
    "        result.append([option, title, loc, link])\n",
    "\n",
    "    browser.set_window_position(0, 0)\n",
    "    browser.set_window_size(433, 500)\n",
    "    browser.implicitly_wait(3)\n",
    "    element = browser.find_element_by_tag_name('body')\n",
    "    element_png = element.screenshot_as_png\n",
    "    with open(save_path+'naver_{}_{}.jpg'.format(sword, option), \"wb\") as file:\n",
    "        file.write(element_png)"
   ]
  },
  {
   "cell_type": "code",
   "execution_count": 71,
   "metadata": {},
   "outputs": [],
   "source": [
    "with open(save_path+'output_utf-8.csv', 'w', encoding='utf-8', newline='') as file:\n",
    "    w = csv.writer(file)\n",
    "    for line in result:\n",
    "        w.writerow(line)"
   ]
  },
  {
   "cell_type": "code",
   "execution_count": 72,
   "metadata": {},
   "outputs": [
    {
     "data": {
      "text/plain": [
       "45"
      ]
     },
     "execution_count": 72,
     "metadata": {},
     "output_type": "execute_result"
    }
   ],
   "source": [
    "len(result)"
   ]
  },
  {
   "cell_type": "code",
   "execution_count": 74,
   "metadata": {},
   "outputs": [
    {
     "name": "stdout",
     "output_type": "stream",
     "text": [
      "123454561332123132123\n",
      "123454561332123132123\n",
      "123454561332123132123\n",
      "123454561332123132123\n",
      "123454561332123132123\n",
      "123454561332123132123\n",
      "123454561332123132123\n",
      "123454561332123132123\n",
      "123454561332123132123\n",
      "123454561332123132123\n",
      "123454561332123132123\n"
     ]
    }
   ],
   "source": [
    "i = 0\n",
    "while True:\n",
    "    if i > 10:\n",
    "        break\n",
    "    else:\n",
    "        i += 1\n",
    "        print('123454561332123132123')"
   ]
  },
  {
   "cell_type": "code",
   "execution_count": null,
   "metadata": {},
   "outputs": [],
   "source": []
  }
 ],
 "metadata": {
  "kernelspec": {
   "display_name": "Python 3",
   "language": "python",
   "name": "python3"
  },
  "language_info": {
   "codemirror_mode": {
    "name": "ipython",
    "version": 3
   },
   "file_extension": ".py",
   "mimetype": "text/x-python",
   "name": "python",
   "nbconvert_exporter": "python",
   "pygments_lexer": "ipython3",
   "version": "3.6.3"
  }
 },
 "nbformat": 4,
 "nbformat_minor": 2
}
